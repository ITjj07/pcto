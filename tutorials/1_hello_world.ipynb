{
 "cells": [
  {
   "cell_type": "markdown",
   "metadata": {},
   "source": [
    "## The dummiest yet most effextive example."
   ]
  },
  {
   "cell_type": "markdown",
   "metadata": {},
   "source": [
    "Here you can see the very basics of Python: syntax and structure."
   ]
  },
  {
   "cell_type": "code",
   "execution_count": null,
   "metadata": {},
   "outputs": [],
   "source": [
    "# First, this is a comment. It is ignored by the Python interpreter.\n",
    "# Try to run this cell. Nothing will happen.\n",
    "\n",
    "\"\"\" This is also a comment. \"\"\"\n",
    "\n",
    "# Coding is fun, huh?"
   ]
  },
  {
   "cell_type": "markdown",
   "metadata": {},
   "source": [
    "Ok, joking over (but comments are a serious matter; we'll get back to them later)."
   ]
  },
  {
   "cell_type": "code",
   "execution_count": null,
   "metadata": {},
   "outputs": [],
   "source": [
    "# As a first example, let's print something to the screen.\n",
    "print(\"Hello, world!\")"
   ]
  },
  {
   "cell_type": "markdown",
   "metadata": {},
   "source": [
    "You can see that it's pretty intuitive, right? Well, this is the main concept of Python: being easy to learn and write.\n",
    "Let's say that you just need to write stuff at a \"high level\" (the logic level), and Python will take care of everything else.\n",
    "\n",
    "Now, what you see inside the brackets is a string. It's a type of variable, but the 'print' function can print also other stuff, for example numbers.\n",
    "Try to change the string (keep the quotes!) or insert whatever number and run the cell to see what happens."
   ]
  },
  {
   "cell_type": "markdown",
   "metadata": {},
   "source": [
    "Now, let's look at how to write and use variables.\n",
    "Run the following cell and see what happens."
   ]
  },
  {
   "cell_type": "code",
   "execution_count": null,
   "metadata": {},
   "outputs": [],
   "source": [
    "# Variables\n",
    "this_is_string = \"This is a string.\"            # string variable\n",
    "this_is_integer = 23                            # integer variable (whole number)\n",
    "this_is_float = 3.14                            # float variable (decimal number)\n",
    "this_is_the_same_float = this_is_float          # another float variable\n",
    "this_is_a_boolean = True                        # boolean variable (True or False)\n",
    "\n",
    "# Print the variables\n",
    "print(this_is_string)\n",
    "print(this_is_integer)\n",
    "print(this_is_float)\n",
    "print(this_is_the_same_float)\n",
    "print(this_is_a_boolean)"
   ]
  },
  {
   "cell_type": "markdown",
   "metadata": {},
   "source": [
    "So, what can you say about variables? They are \"objects\" in which you can store values that can be used by the code in the following lines (and for an infinite number of times!). \n",
    "\n",
    "Moreover, Python automatically detects the type of variable (wether string, integer, float or others), so you don't have to specify it each time and therefore you can write less code yoursef.\n",
    "\n",
    "To call a variable, you just need to type down its name. Try to do so: \n",
    "- create (write) a new variable and print it on the screen writing your code in the following cell under the comment \"PUT YOUR CODE HERE\"\n",
    "- create a variable with the same name of a prvious one and print it"
   ]
  },
  {
   "cell_type": "code",
   "execution_count": 4,
   "metadata": {},
   "outputs": [],
   "source": [
    "# PUT YOUR CODE HERE\n"
   ]
  },
  {
   "cell_type": "markdown",
   "metadata": {},
   "source": [
    "By the way, did you see the comments in the previous cells? They are placed in between lines to DISTINGUISH CODE BLOCKS and IMPROVE READABILITY.\n",
    "\n",
    "Consider this: you're writing code for your final exam, but in a few days you'll leave for a holiday with friends and you won't be coding for at least 30 days because you're doing a month long trip and rightfully so you wanna enjoy it. So one month later, once back at home and after many drinks with your friends, crazy parties where you blacked out because of alcohol and made your personal record for people kissed in one night, you start putting yourself back on the code. You then realize that you don't even remember what the project was and, even worse, you don't remember what you wrote. So you look up at your code, but it's like reading Chinese. And you have to do all over again. Why? Well, you didn't consider to put comments to distinguish the different blocks of code and write briefly explanations. So now you can't understand which line does what anymore (or you're spending hours deciphering what you've written). You may think of trying to ask to a friend to help you understanding what you did, but, you know, without comments your friend is no code magician.\n",
    "\n",
    "Humanity need comments, fellas. Help humanity, comment your code."
   ]
  },
  {
   "cell_type": "markdown",
   "metadata": {},
   "source": [
    "Last thing for this tutorial. Talking about numbers, you can do super basic operations in Python.\n",
    "Let's see the following example."
   ]
  },
  {
   "cell_type": "code",
   "execution_count": null,
   "metadata": {},
   "outputs": [],
   "source": [
    "# Some basic operations\n",
    "a = 10\n",
    "b = 20\n",
    "sum = a + b\n",
    "difference = a - b\n",
    "multiplication = a * b\n",
    "another_mutliplication = a * 2\n",
    "division = a / b\n",
    "\n",
    "# Print those f**ing operations\n",
    "print(\"Sum:\", sum)\n",
    "print(\"Difference:\", difference)\n",
    "print(\"Multiplication:\", multiplication)\n",
    "print(\"Multiplication by 2:\", another_mutliplication)\n",
    "print(\"Division:\", division)\n",
    "\n",
    "# You can also print the results directly\n",
    "print(\"Sum:\", a + b)"
   ]
  },
  {
   "cell_type": "markdown",
   "metadata": {},
   "source": [
    "You can also concatenate strings by using the sum operator. Run the next example cell and try it for yourself!"
   ]
  },
  {
   "cell_type": "code",
   "execution_count": null,
   "metadata": {},
   "outputs": [],
   "source": [
    "\n",
    "# String to concatenate\n",
    "string1 = \"Today is\"\n",
    "string2 = \"today\"\n",
    "string3 = \"Mondayyyyyyyyy\"\n",
    "\n",
    "# Concatenate strings\n",
    "print(\"Hello!\" + \" \" + string1 + \" \" + string2)"
   ]
  },
  {
   "cell_type": "markdown",
   "metadata": {},
   "source": [
    "Alright, done here!\n",
    "\n",
    "Before going on with our custom and super funny tutorials, let us give you some references you can always look up to on when you're searching for something you still don't know.\n",
    "\n",
    "Tutorials:\n",
    "- https://www.learnpython.org/\n",
    "- https://docs.python.org/3/tutorial/index.html\n",
    "- YouTube\n",
    "\n",
    "Forums:\n",
    "- https://stackoverflow.com/\n",
    "\n",
    "If we're missing something you need in your code, try and search on the official Python reference and tutorial pages.\n",
    "If you're encountering a problem while running your code or you can't find what you're searching for in the official Python reference, search on the forums. Now for the latter, you don't actually need to access the forum's main page first, you just type in your problem on your browser search bar and you'll see that various websites and forum will pop up. You just have to choose what to look up to (Stack Overflow is usually the most realiable).\n",
    "\n",
    "Even expert coders do exactly as written above."
   ]
  },
  {
   "cell_type": "markdown",
   "metadata": {},
   "source": [
    "You can play around with all the code cells above and see what happens if you change something.\n",
    "\n",
    "Have fun! :)"
   ]
  }
 ],
 "metadata": {
  "kernelspec": {
   "display_name": "coppeliaSim",
   "language": "python",
   "name": "python3"
  },
  "language_info": {
   "codemirror_mode": {
    "name": "ipython",
    "version": 3
   },
   "file_extension": ".py",
   "mimetype": "text/x-python",
   "name": "python",
   "nbconvert_exporter": "python",
   "pygments_lexer": "ipython3",
   "version": "3.10.16"
  }
 },
 "nbformat": 4,
 "nbformat_minor": 2
}
