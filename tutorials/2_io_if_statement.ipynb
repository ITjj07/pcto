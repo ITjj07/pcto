{
 "cells": [
  {
   "cell_type": "markdown",
   "metadata": {},
   "source": [
    "# Interacting."
   ]
  },
  {
   "cell_type": "markdown",
   "metadata": {},
   "source": [
    "### Input / Output"
   ]
  },
  {
   "cell_type": "markdown",
   "metadata": {},
   "source": [
    "In this tutorial, we'll deal with input, output and conditional statements.\n",
    "\n",
    "First, run the followin cell and see what happens."
   ]
  },
  {
   "cell_type": "code",
   "execution_count": 2,
   "metadata": {},
   "outputs": [
    {
     "name": "stdout",
     "output_type": "stream",
     "text": [
      "Hello, chiara!\n",
      "And welcome to the funniest and best Python tutorial ever!\n"
     ]
    }
   ],
   "source": [
    "# Store input\n",
    "name = input(\"Enter your name: \")\n",
    "\n",
    "# Print output\n",
    "print(\"Hello, \" + name + \"!\")\n",
    "print(\"And welcome to the funniest and best Python tutorial ever!\")"
   ]
  },
  {
   "cell_type": "markdown",
   "metadata": {},
   "source": [
    "So, at the top of your VS Code interface, you had to type yuor name (or whatever string you wanted if you wanted to joke around, you silly joker) and your input was converted into output witht he remaining string passed to the \"print\" function. This is a basic example of interactive code using the \"input\" function.\n",
    "\n",
    "Making code interactive is for building, simulating and testing code-based applications! Actually, as you can imagine, everything that is digital is programmed in a certain code language. So, it's always a matter of exchanging input/outputs with the underlying code.\n",
    "\n",
    "As input, you can also enter numbers. Test it yourself by running the following cell."
   ]
  },
  {
   "cell_type": "code",
   "execution_count": 3,
   "metadata": {},
   "outputs": [
    {
     "name": "stdout",
     "output_type": "stream",
     "text": [
      "You are 2 years old.\n"
     ]
    }
   ],
   "source": [
    "# Store input\n",
    "age = input(\"Enter your age: \")\n",
    "\n",
    "# Print output\n",
    "print(\"You are \" + age + \" years old.\")"
   ]
  },
  {
   "cell_type": "markdown",
   "metadata": {},
   "source": [
    "However, numbers are taken as strings. If you want to convert them into actual number variables, you have to cast them. See the following example."
   ]
  },
  {
   "cell_type": "code",
   "execution_count": 21,
   "metadata": {},
   "outputs": [
    {
     "name": "stdout",
     "output_type": "stream",
     "text": [
      "Output from not casted input: got <class 'str'> value.\n",
      "Output from casted input: got <class 'int'> value.\n"
     ]
    }
   ],
   "source": [
    "# Store input\n",
    "age = input(\"Enter your age: \")\n",
    "\n",
    "# Print string output\n",
    "print(f\"Output from not casted input: got {type(age)} value.\")  # You'll get something like <class 'str'>\n",
    "                                                                # str stands for string\n",
    "\n",
    "# Print integer output\n",
    "age_integer = int(age)      # int() to cast to integer; float() to cast to float\n",
    "print(f\"Output from casted input: got {type(age_integer)} value.\")  # You'll get something like <class 'int'>\n",
    "                                                                    # int stands for integer"
   ]
  },
  {
   "cell_type": "markdown",
   "metadata": {},
   "source": [
    "Now, try to put a word instead of a number as input in the cell above. You'll see that the cell throws you an error under it saying something like \"Output from not casted input: got <class 'str'> value\". This is the low-level code from the Python interpreter that is telling you that it cannot run the code since it god a wrong input type. To let you know this, it \"outputs\" an error message."
   ]
  },
  {
   "cell_type": "markdown",
   "metadata": {},
   "source": [
    "Therefore, between input and output, the latter could be considered as the most critical. Generating outputs from the code (making it \"talking\") is critical and super useful for the final user. Let's see another example (ignore the code instructions, just run the following cell and see what happens)."
   ]
  },
  {
   "cell_type": "code",
   "execution_count": 14,
   "metadata": {},
   "outputs": [
    {
     "name": "stdout",
     "output_type": "stream",
     "text": [
      "If you guess the sum between your number and my number, you win your high school degree and you won't have to take your 'maturità' exam.\n",
      "Otherwise, you're gonna have to repeat your 5th year of high school.\n",
      "What's your guess?\n",
      "Sorry, you lost. Better luck next time. Have fun taking your entire 5th high school year again!\n"
     ]
    }
   ],
   "source": [
    "import numpy as np\n",
    "\n",
    "# Variables\n",
    "your_number = input(\"Enter a number: \")\n",
    "my_number = np.random.randint(1, 100)   # Random number between 1 and 100.\n",
    "\n",
    "\n",
    "\n",
    "# Making awful bets\n",
    "print(\"If you guess the sum between your number and my number, you win your high school degree and you won't have to take your 'maturità' exam.\")\n",
    "print(\"Otherwise, you're gonna have to repeat your 5th year of high school.\")\n",
    "\n",
    "# Enter guess\n",
    "print(\"What's your guess?\")\n",
    "guess = int(input(\"Your guess:\"))\n",
    "\n",
    "# Check if guess is correct\n",
    "result = int(your_number) + my_number\n",
    "if guess == result:\n",
    "    print(\"Congratulations! You won!\")\n",
    "else:\n",
    "    print(\"Sorry, you lost. Better luck next time. Have fun taking your entire 5th high school year again!\")\n"
   ]
  },
  {
   "cell_type": "markdown",
   "metadata": {},
   "source": [
    "You cannot know what random number the code generated because we didn't print that value. \n",
    "\n",
    "Consider this: the code  runs fine with no errors; however, it generates an unexpected final output (e.g. a division instead of a sum). If we don't print what the code generates or does step-by-step, it could take way more time for us to find the error.\n",
    "\n",
    "Therefore, rinting what the code does is useful for the programmer to find the error in the code if one occurs.\n",
    "\n",
    "Wanna have your high school degree and avoid retaking the year? Run the following cell."
   ]
  },
  {
   "cell_type": "code",
   "execution_count": 15,
   "metadata": {},
   "outputs": [
    {
     "name": "stdout",
     "output_type": "stream",
     "text": [
      "My number is 89\n",
      "If you guess the sum between your number and my number, you win your high school degree and you won't have to take your 'maturità' exam.\n",
      "Otherwise, you're gonna have to repeat your 5th year of high school.\n",
      "What's your guess?\n",
      "Sorry, you lost. Better luck next time. Have fun taking your entire 5th high school year again!\n"
     ]
    }
   ],
   "source": [
    "import numpy as np\n",
    "\n",
    "# Variables\n",
    "your_number = input(\"Enter a number: \")\n",
    "my_number = np.random.randint(1, 100)   # Random number between 1 and 100\n",
    "print(f\"My number is {my_number}\")\n",
    "\n",
    "# Making awful bets\n",
    "print(\"If you guess the sum between your number and my number, you win your high school degree and you won't have to take your 'maturità' exam.\")\n",
    "print(\"Otherwise, you're gonna have to repeat your 5th year of high school.\")\n",
    "\n",
    "# Enter guess\n",
    "print(\"What's your guess?\")\n",
    "guess = int(input(\"Your guess:\"))\n",
    "\n",
    "# Check if guess is correct\n",
    "result = int(your_number) + my_number\n",
    "if guess == result:\n",
    "    print(\"Congratulations! You won!\")\n",
    "else:\n",
    "    print(\"Sorry, you lost. Better luck next time. Have fun taking your entire 5th high school year again!\")\n"
   ]
  },
  {
   "cell_type": "markdown",
   "metadata": {},
   "source": [
    "### Conditional statements (if - elif - else)"
   ]
  },
  {
   "cell_type": "markdown",
   "metadata": {},
   "source": [
    "What if you need to make the code do different things based on your input or a previous result?\n",
    "\n",
    "Exactly, you put conditional statements!\n",
    "\n",
    "Run the following cell and see yourself."
   ]
  },
  {
   "cell_type": "code",
   "execution_count": 17,
   "metadata": {},
   "outputs": [
    {
     "name": "stdout",
     "output_type": "stream",
     "text": [
      "How many km did you travel today from your house to here today?\n",
      "How did you come here? By foot, train, car or bycicle?\n",
      "No full shame for car or train, but you could have considered a walk or a bycicle ride.\n"
     ]
    }
   ],
   "source": [
    "# User input\n",
    "print(\"How many km did you travel today from your house to here today?\")\n",
    "distance = float(input((\"Insert distance (you can also use decimals): \")))\n",
    "\n",
    "# Say something about distance\n",
    "if distance < 1.0:\n",
    "    print(\"How did you come here? By foot, train, car or bycicle?\")\n",
    "    transport = input(\"Insert one between foot, train, car or bycicle: \")\n",
    "\n",
    "    if transport == \"foot\" or transport == \"bycicle\":\n",
    "        print(\"You damn cute Earth angel! You're saving the planet!\")\n",
    "    else:\n",
    "        print(\"Bruh you really took a car or a train for less than 1 km!? Damn.\")\n",
    "\n",
    "elif distance < 5.0:\n",
    "    print(\"How did you come here? By foot, train, car or bycicle?\")\n",
    "    transport = input(\"Insert one between foot, train, car or bycicle: \")\n",
    "\n",
    "    if transport == \"foot\" or transport == \"bycicle\":\n",
    "        print(\"Good job! Healthy habits can be boring but they pay off!\")\n",
    "    else:\n",
    "        print(\"No full shame for car or train, but you could have considered a walk or a bycicle ride.\")\n",
    "\n",
    "else:\n",
    "    print(\"Nothign to blame or praise here, commuting long distances can be painful if done in a 100% green way.\")"
   ]
  },
  {
   "cell_type": "markdown",
   "metadata": {},
   "source": [
    "As you can see, based on your input, different sentences are printed as output.\n",
    "\n",
    "Another thing to notice is that after the statements if, elif and else the next commands are written starting from a different column. That is indentation. Python needs indentation to work properly. Whenever you work with conditional statements, loops, functions definitions and so on, you need indentation.\n",
    "\n",
    "Try to run the following cell which doesn't present indentation and see what happens (uncomment the \"if\" section)."
   ]
  },
  {
   "cell_type": "code",
   "execution_count": 20,
   "metadata": {},
   "outputs": [],
   "source": [
    "# User input\n",
    "grade = int(input(\"Enter your grade (integer number between 50 and 100): \"))\n",
    "\n",
    "# Check grade\n",
    "# UNCOMMENT TO SEE WHAT HAPPENS\n",
    "# if grade >= 90:\n",
    "# print(\"You got an A!\")\n",
    "# elif grade >= 80:\n",
    "# print(\"You got a B!\")\n",
    "# elif grade >= 70:\n",
    "# print(\"You got a C.\")\n",
    "# else:\n",
    "# print(\"You need to improve.\")"
   ]
  },
  {
   "cell_type": "markdown",
   "metadata": {},
   "source": [
    "The cell will output you an error: this is because Python cannot run without indentation!!"
   ]
  },
  {
   "cell_type": "markdown",
   "metadata": {},
   "source": [
    "You can play around with all the code cells above and see what happens if you change something.\n",
    "\n",
    "Have fun! :)"
   ]
  }
 ],
 "metadata": {
  "kernelspec": {
   "display_name": "coppeliaSim",
   "language": "python",
   "name": "python3"
  },
  "language_info": {
   "codemirror_mode": {
    "name": "ipython",
    "version": 3
   },
   "file_extension": ".py",
   "mimetype": "text/x-python",
   "name": "python",
   "nbconvert_exporter": "python",
   "pygments_lexer": "ipython3",
   "version": "3.10.16"
  }
 },
 "nbformat": 4,
 "nbformat_minor": 2
}
