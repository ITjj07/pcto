{
 "cells": [
  {
   "cell_type": "markdown",
   "metadata": {},
   "source": [
    "# Looping through."
   ]
  },
  {
   "cell_type": "markdown",
   "metadata": {},
   "source": [
    "Loops are an important component in Python. Actually, they are important coding components in general, in every language.\n",
    "\n",
    "There are basically 2 main types of loops: for loops and while (infinite) loops."
   ]
  },
  {
   "cell_type": "markdown",
   "metadata": {},
   "source": [
    "In the following cell, you can see an example of a for loop.\n",
    "Run the cell and see what happens."
   ]
  },
  {
   "cell_type": "code",
   "execution_count": null,
   "metadata": {},
   "outputs": [],
   "source": [
    "# Loop through a range of numbers\n",
    "for i in range(1, 6):\n",
    "    print(f\"Count: {i}\")\n",
    "\n",
    "# Loop through a list\n",
    "print(\"\\n\")     # go to the next line\n",
    "colors = [\"red\", \"blue\", \"green\"]\n",
    "for color in colors:\n",
    "    print(f\"Color: {color}\")\n"
   ]
  },
  {
   "cell_type": "markdown",
   "metadata": {},
   "source": [
    "With for loops we tell Python to repeat the same sequence of instructions for a certain numbers of time or with a \"list\" of different items.\n",
    "\n",
    "Above you also see one of the most important data structures in Python: lists. Lists are basically containers of variables, either strings or numbers (even strings and numbers at the same time!). Looping through lists using their elements to perform operations is something that will turn useful to you. 100% sure."
   ]
  },
  {
   "cell_type": "markdown",
   "metadata": {},
   "source": [
    "Now instead, let's see the while loop in action. This loop, instead, repeats the same set of instruction over and over again until a certain condition is met. See the example below running the cell."
   ]
  },
  {
   "cell_type": "code",
   "execution_count": null,
   "metadata": {},
   "outputs": [],
   "source": [
    "# Repeat until the condition is false\n",
    "count = 5\n",
    "\n",
    "while count > 0:\n",
    "    print(f\"Countdown: {count}\")\n",
    "    count -= 1  # Decrease count by 1\n",
    "\n",
    "print(\"Blastoff!\")"
   ]
  },
  {
   "cell_type": "markdown",
   "metadata": {},
   "source": [
    "While loops can be \"dangerous\": if the loop condition is never met, the loop will go on indefinitely!\n",
    "See the example below (it will run forever, unless you don't stop it manually clicking on the stop button of the cell)."
   ]
  },
  {
   "cell_type": "code",
   "execution_count": null,
   "metadata": {},
   "outputs": [],
   "source": [
    "import time\n",
    "\n",
    "# Infinite loop\n",
    "count = 0\n",
    "while True:\n",
    "    count += 1      # Increase count by 1\n",
    "    print(f\"[iteration {count}]I'm stuck in an infinite loop!\")\n",
    "    time.sleep(0.5)   # Sleep for 0.5 seconds\n",
    "    "
   ]
  },
  {
   "cell_type": "markdown",
   "metadata": {},
   "source": [
    "Be sure then to meet somewhere in your code the while condition unless you don't want it go loop indefinitely."
   ]
  },
  {
   "cell_type": "markdown",
   "metadata": {},
   "source": [
    "You can play around with all the code cells above and see what happens if you change something.\n",
    "\n",
    "Have fun! :)"
   ]
  }
 ],
 "metadata": {
  "kernelspec": {
   "display_name": "coppeliaSim",
   "language": "python",
   "name": "python3"
  },
  "language_info": {
   "codemirror_mode": {
    "name": "ipython",
    "version": 3
   },
   "file_extension": ".py",
   "mimetype": "text/x-python",
   "name": "python",
   "nbconvert_exporter": "python",
   "pygments_lexer": "ipython3",
   "version": "3.10.16"
  }
 },
 "nbformat": 4,
 "nbformat_minor": 2
}
