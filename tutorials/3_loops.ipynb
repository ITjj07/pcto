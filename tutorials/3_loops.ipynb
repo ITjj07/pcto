{
 "cells": [
  {
   "cell_type": "markdown",
   "metadata": {},
   "source": [
    "# Looping through."
   ]
  },
  {
   "cell_type": "markdown",
   "metadata": {},
   "source": [
    "Loops are an important component in Python. Actually, they are important coding components in general, in every language.\n",
    "\n",
    "There are basically 2 main types of loops: for loops and while (infinite) loops."
   ]
  },
  {
   "cell_type": "markdown",
   "metadata": {},
   "source": [
    "In the following cell, you can see an example of a for loop.\n",
    "Run the cell and see what happens."
   ]
  },
  {
   "cell_type": "code",
   "execution_count": 3,
   "metadata": {},
   "outputs": [
    {
     "name": "stdout",
     "output_type": "stream",
     "text": [
      "Count: 1\n",
      "Count: 2\n",
      "Count: 3\n",
      "Count: 4\n",
      "Count: 5\n",
      "\n",
      "\n",
      "Color: red\n",
      "Color: blue\n",
      "Color: green\n"
     ]
    }
   ],
   "source": [
    "# Loop through a range of numbers\n",
    "for i in range(1, 6):\n",
    "    print(f\"Count: {i}\")\n",
    "\n",
    "# Loop through a list\n",
    "print(\"\\n\")     # go to the next line\n",
    "colors = [\"red\", \"blue\", \"green\"]\n",
    "for color in colors:\n",
    "    print(f\"Color: {color}\")\n"
   ]
  },
  {
   "cell_type": "markdown",
   "metadata": {},
   "source": [
    "With for loops we tell Python to repeat the same sequence of instructions for a certain numbers of time or with a \"list\" of different items.\n",
    "\n",
    "Above you also see one of the most important data structures in Python: lists. Lists are basically containers of variables, either strings or numbers (even strings and numbers at the same time!). Looping through lists using their elements to perform operations is something that will turn useful to you. 100% sure."
   ]
  },
  {
   "cell_type": "markdown",
   "metadata": {},
   "source": [
    "Now instead, let's see the while loop in action. This loop, instead, repeats the same set of instruction over and over again until a certain condition is met. See the example below running the cell."
   ]
  },
  {
   "cell_type": "code",
   "execution_count": 4,
   "metadata": {},
   "outputs": [
    {
     "name": "stdout",
     "output_type": "stream",
     "text": [
      "Countdown: 5\n",
      "Countdown: 4\n",
      "Countdown: 3\n",
      "Countdown: 2\n",
      "Countdown: 1\n",
      "Blastoff!\n"
     ]
    }
   ],
   "source": [
    "# Repeat until the condition is false\n",
    "count = 5\n",
    "\n",
    "while count > 0:\n",
    "    print(f\"Countdown: {count}\")\n",
    "    count -= 1  # Decrease count by 1\n",
    "\n",
    "print(\"Blastoff!\")"
   ]
  },
  {
   "cell_type": "markdown",
   "metadata": {},
   "source": [
    "While loops can be \"dangerous\": if the loop condition is never met, the loop will go on indefinitely!\n",
    "See the example below (it will run forever, unless you don't stop it manually clicking on the stop button of the cell)."
   ]
  },
  {
   "cell_type": "code",
   "execution_count": 5,
   "metadata": {},
   "outputs": [
    {
     "name": "stdout",
     "output_type": "stream",
     "text": [
      "[iteration 1]I'm stuck in an infinite loop!\n",
      "[iteration 2]I'm stuck in an infinite loop!\n",
      "[iteration 3]I'm stuck in an infinite loop!\n",
      "[iteration 4]I'm stuck in an infinite loop!\n",
      "[iteration 5]I'm stuck in an infinite loop!\n",
      "[iteration 6]I'm stuck in an infinite loop!\n",
      "[iteration 7]I'm stuck in an infinite loop!\n",
      "[iteration 8]I'm stuck in an infinite loop!\n",
      "[iteration 9]I'm stuck in an infinite loop!\n",
      "[iteration 10]I'm stuck in an infinite loop!\n",
      "[iteration 11]I'm stuck in an infinite loop!\n",
      "[iteration 12]I'm stuck in an infinite loop!\n",
      "[iteration 13]I'm stuck in an infinite loop!\n",
      "[iteration 14]I'm stuck in an infinite loop!\n",
      "[iteration 15]I'm stuck in an infinite loop!\n",
      "[iteration 16]I'm stuck in an infinite loop!\n",
      "[iteration 17]I'm stuck in an infinite loop!\n",
      "[iteration 18]I'm stuck in an infinite loop!\n",
      "[iteration 19]I'm stuck in an infinite loop!\n",
      "[iteration 20]I'm stuck in an infinite loop!\n",
      "[iteration 21]I'm stuck in an infinite loop!\n"
     ]
    },
    {
     "ename": "KeyboardInterrupt",
     "evalue": "",
     "output_type": "error",
     "traceback": [
      "\u001b[1;31m---------------------------------------------------------------------------\u001b[0m",
      "\u001b[1;31mKeyboardInterrupt\u001b[0m                         Traceback (most recent call last)",
      "Cell \u001b[1;32mIn[5], line 8\u001b[0m\n\u001b[0;32m      6\u001b[0m count \u001b[38;5;241m+\u001b[39m\u001b[38;5;241m=\u001b[39m \u001b[38;5;241m1\u001b[39m      \u001b[38;5;66;03m# Increase count by 1\u001b[39;00m\n\u001b[0;32m      7\u001b[0m \u001b[38;5;28mprint\u001b[39m(\u001b[38;5;124mf\u001b[39m\u001b[38;5;124m\"\u001b[39m\u001b[38;5;124m[iteration \u001b[39m\u001b[38;5;132;01m{\u001b[39;00mcount\u001b[38;5;132;01m}\u001b[39;00m\u001b[38;5;124m]I\u001b[39m\u001b[38;5;124m'\u001b[39m\u001b[38;5;124mm stuck in an infinite loop!\u001b[39m\u001b[38;5;124m\"\u001b[39m)\n\u001b[1;32m----> 8\u001b[0m \u001b[43mtime\u001b[49m\u001b[38;5;241;43m.\u001b[39;49m\u001b[43msleep\u001b[49m\u001b[43m(\u001b[49m\u001b[38;5;241;43m0.5\u001b[39;49m\u001b[43m)\u001b[49m   \u001b[38;5;66;03m# Sleep for 0.5 seconds\u001b[39;00m\n",
      "\u001b[1;31mKeyboardInterrupt\u001b[0m: "
     ]
    }
   ],
   "source": [
    "import time\n",
    "\n",
    "# Infinite loop\n",
    "count = 0\n",
    "while True:\n",
    "    count += 1      # Increase count by 1\n",
    "    print(f\"[iteration {count}]I'm stuck in an infinite loop!\")\n",
    "    time.sleep(0.5)   # Sleep for 0.5 seconds\n",
    "    "
   ]
  },
  {
   "cell_type": "markdown",
   "metadata": {},
   "source": [
    "Be sure then to meet somewhere in your code the while condition unless you don't want it go loop indefinitely."
   ]
  },
  {
   "cell_type": "markdown",
   "metadata": {},
   "source": [
    "You can play around with all the code cells above and see what happens if you change something.\n",
    "\n",
    "Have fun! :)"
   ]
  }
 ],
 "metadata": {
  "kernelspec": {
   "display_name": "coppeliaSim",
   "language": "python",
   "name": "python3"
  },
  "language_info": {
   "codemirror_mode": {
    "name": "ipython",
    "version": 3
   },
   "file_extension": ".py",
   "mimetype": "text/x-python",
   "name": "python",
   "nbconvert_exporter": "python",
   "pygments_lexer": "ipython3",
   "version": "3.10.16"
  }
 },
 "nbformat": 4,
 "nbformat_minor": 2
}
