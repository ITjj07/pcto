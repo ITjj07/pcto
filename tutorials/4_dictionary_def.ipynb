{
 "cells": [
  {
   "cell_type": "markdown",
   "metadata": {},
   "source": [
    "# Search the key, find the value."
   ]
  },
  {
   "cell_type": "markdown",
   "metadata": {},
   "source": [
    "Another important data structure in Python are dictionaries. They are containers based on a \"key-value\" structure that allow the user to  retrieve the desired items by their keys (and other interesting operations too).\n",
    "\n",
    "Run the following cell and see what happens."
   ]
  },
  {
   "cell_type": "code",
   "execution_count": 1,
   "metadata": {},
   "outputs": [
    {
     "name": "stdout",
     "output_type": "stream",
     "text": [
      "Name: Alice\n",
      "Age: 16\n",
      "Updated dictionary: {'name': 'Alice', 'age': 17, 'school': 'High School'}\n",
      "name: Alice\n",
      "age: 17\n",
      "school: High School\n"
     ]
    }
   ],
   "source": [
    "# Basic example dictionary\n",
    "student = {\n",
    "    \"name\": \"Alice\",\n",
    "    \"age\": 16,\n",
    "    \"grade\": \"A\"\n",
    "}\n",
    "\n",
    "# Access values using keys\n",
    "print(\"Name:\", student[\"name\"])\n",
    "print(\"Age:\", student[\"age\"])\n",
    "\n",
    "# Add, update, or delete values\n",
    "student[\"school\"] = \"High School\"  # Add\n",
    "student[\"age\"] = 17  # Update\n",
    "del student[\"grade\"]  # Delete\n",
    "\n",
    "print(\"Updated dictionary:\", student)\n",
    "\n",
    "# Loop through a dictionary\n",
    "for key, value in student.items():\n",
    "    print(f\"{key}: {value}\")\n"
   ]
  },
  {
   "cell_type": "markdown",
   "metadata": {},
   "source": [
    "So, the main difference with lists, is that with dictionaries you don't need to loop through them to get the items that you want! But don't discard listl for this. \n",
    "\n",
    "Some cases you'll need dictionaries, in other cases you'll need lists. Have fun seeing where and when!"
   ]
  },
  {
   "cell_type": "markdown",
   "metadata": {},
   "source": [
    "### Functions"
   ]
  },
  {
   "cell_type": "markdown",
   "metadata": {},
   "source": [
    "Functions are blocks of code you can reuse when needed without having to write again the entire code block. Moreover, they improve readability and modularity of the code, which means they make it more understandable for who doesn't write the code directly. This also makes the code REUSABLE."
   ]
  },
  {
   "cell_type": "markdown",
   "metadata": {},
   "source": [
    "Let's see an example of function that takes as input a string and prints it on the screen in a sentence. Run the cell below and see what happens."
   ]
  },
  {
   "cell_type": "code",
   "execution_count": 2,
   "metadata": {},
   "outputs": [
    {
     "name": "stdout",
     "output_type": "stream",
     "text": [
      "Inside the function\n",
      "I'm doing stuff\n",
      "I've summed 2 random numbers and got  0.6750235929097068\n",
      "Hello, elena!\n"
     ]
    }
   ],
   "source": [
    "import numpy as np\n",
    "\n",
    "# Define a function\n",
    "def greet(name):\n",
    "    print(\"Inside the function\")\n",
    "    print(\"I'm doing stuff\")\n",
    "    a = np.random.random()\n",
    "    b = np.random.random()\n",
    "    c = a + b\n",
    "    print(\"I've summed 2 random numbers and got \", c)\n",
    "    return f\"Hello, {name}!\"\n",
    "\n",
    "# Call the function\n",
    "name = input(\"What is your name? \")\n",
    "print(greet(name))\n"
   ]
  },
  {
   "cell_type": "markdown",
   "metadata": {},
   "source": [
    "The cell above is very trivial and we \"called\" the function just one time. But what if I had to call it 10 times? Can you imagine how annoying would have been to write 10 times all the lines inside the function? Yeah ok you just do copy-paste for 10 times, but the code would be unreadable then! \n",
    "\n",
    "Functions make the code also lighter for that. And again, they make it more READABLE."
   ]
  },
  {
   "cell_type": "markdown",
   "metadata": {},
   "source": [
    "Below there is an example of functions that make some operation with a dictionary (so that we stick to the dictionary topic). Run the cell and see what happens."
   ]
  },
  {
   "cell_type": "code",
   "execution_count": 5,
   "metadata": {},
   "outputs": [
    {
     "name": "stdout",
     "output_type": "stream",
     "text": [
      "Original Dictionary: {'name': 'Alice', 'age': 16, 'grade': 'A'}\n",
      "After Adding 'school': {'name': 'Alice', 'age': 16, 'grade': 'A', 'school': 'High School'}\n",
      "After Removing 'grade': {'name': 'Alice', 'age': 16, 'school': 'High School'}\n",
      "Key 'grade' not found in the dictionary.\n"
     ]
    }
   ],
   "source": [
    "# Define a dictionary to hold student details\n",
    "student = {\n",
    "    \"name\": \"Alice\",\n",
    "    \"age\": 16,\n",
    "    \"grade\": \"A\"\n",
    "}\n",
    "\n",
    "# Function to update or add a key-value pair in the dictionary\n",
    "def update_student_info(student_dict, key, value):\n",
    "    \"\"\"\n",
    "    Updates or adds a key-value pair in the student dictionary.\n",
    "\n",
    "    :param student_dict: The dictionary containing student details.\n",
    "    :param key: The key to update or add.\n",
    "    :param value: The value to associate with the key.\n",
    "    :return: The updated dictionary.\n",
    "    \"\"\"\n",
    "    student_dict[key] = value  # Update or add the key-value pair\n",
    "    return student_dict  # Return the updated dictionary\n",
    "\n",
    "# Function to remove a key from the dictionary\n",
    "def remove_student_info(student_dict, key):\n",
    "    \"\"\"\n",
    "    Removes a key-value pair from the student dictionary.\n",
    "\n",
    "    :param student_dict: The dictionary containing student details.\n",
    "    :param key: The key to remove.\n",
    "    :return: The updated dictionary, or a message if the key doesn't exist.\n",
    "    \"\"\"\n",
    "    if key in student_dict:\n",
    "        del student_dict[key]\n",
    "        return student_dict\n",
    "    else:\n",
    "        return f\"Key '{key}' not found in the dictionary.\"\n",
    "\n",
    "\n",
    "# Example Usage\n",
    "print(\"Original Dictionary:\", student)\n",
    "\n",
    "# Update or add new key-value pairs\n",
    "student = update_student_info(student, \"school\", \"High School\")\n",
    "print(\"After Adding 'school':\", student)\n",
    "\n",
    "# Remove a key\n",
    "student = remove_student_info(student, \"grade\")\n",
    "print(\"After Removing 'grade':\", student)\n",
    "\n",
    "# Try to remove a non-existing key\n",
    "result = remove_student_info(student, \"grade\")\n",
    "print(result)\n"
   ]
  },
  {
   "cell_type": "markdown",
   "metadata": {},
   "source": [
    "Here you can see that comments are useful also to describe what the single function does, what it gets as input and what it returns as output. Commenting you code is important. Comment your code, fellas. "
   ]
  },
  {
   "cell_type": "markdown",
   "metadata": {},
   "source": [
    "You can play around with all the code cells above and see what happens if you change something.\n",
    "\n",
    "Have fun! :)"
   ]
  }
 ],
 "metadata": {
  "kernelspec": {
   "display_name": "coppeliaSim",
   "language": "python",
   "name": "python3"
  },
  "language_info": {
   "codemirror_mode": {
    "name": "ipython",
    "version": 3
   },
   "file_extension": ".py",
   "mimetype": "text/x-python",
   "name": "python",
   "nbconvert_exporter": "python",
   "pygments_lexer": "ipython3",
   "version": "3.10.16"
  }
 },
 "nbformat": 4,
 "nbformat_minor": 2
}
