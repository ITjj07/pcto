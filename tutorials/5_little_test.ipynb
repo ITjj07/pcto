{
 "cells": [
  {
   "cell_type": "markdown",
   "metadata": {},
   "source": [
    "# Did you get it?"
   ]
  },
  {
   "cell_type": "markdown",
   "metadata": {},
   "source": [
    "If you understood the tutorials and the concepts explained within, this is the moment to test your knowledge!"
   ]
  },
  {
   "cell_type": "markdown",
   "metadata": {},
   "source": [
    "### Task"
   ]
  },
  {
   "cell_type": "markdown",
   "metadata": {},
   "source": [
    "Make a code that emulates a calculator.\n",
    "\n",
    "The calculator should performs the following operations:\n",
    "- sum\n",
    "- difference\n",
    "- multiplication\n",
    "- division\n",
    "\n",
    "The calculator should take two floats as input, the desired operation to perform, and print the result.\n",
    "\n",
    "Every operation should be performed by a dedicated function."
   ]
  },
  {
   "cell_type": "markdown",
   "metadata": {},
   "source": [
    "### Code"
   ]
  },
  {
   "cell_type": "markdown",
   "metadata": {},
   "source": [
    "Write your code in the cell below!"
   ]
  },
  {
   "cell_type": "code",
   "execution_count": 6,
   "metadata": {},
   "outputs": [
    {
     "name": "stdout",
     "output_type": "stream",
     "text": [
      "Sum: 9.0\n"
     ]
    }
   ],
   "source": [
    "a=float(input(\"Enter your number:\"))\n",
    "b=float(input(\"Enter your number:\"))\n",
    "sum=a+b\n",
    "difference= a - b\n",
    "multiplication=a*b\n",
    "division=a/b\n",
    "\n",
    "ciao= input(\"Choose between sum,difference, multiplication, division:\")\n",
    "if ciao == \"sum\":\n",
    "    print(\"Sum:\", sum)\n",
    "elif ciao == \"difference\":\n",
    "    print(\"Difference:\", difference)\n",
    "elif ciao == \"multiplication\":\n",
    "    print(\"Multiplication:\", multiplication)\n",
    "elif ciao == \"division\":\n",
    "    print(\"Division:\", division)  \n",
    "else: \n",
    "    print(\"Wrong operand inserted\")\n"
   ]
  },
  {
   "cell_type": "code",
   "execution_count": 5,
   "metadata": {},
   "outputs": [
    {
     "name": "stdout",
     "output_type": "stream",
     "text": [
      "5\n",
      "<class 'str'>\n"
     ]
    }
   ],
   "source": [
    "pippo = input(\"insert string:\")\n",
    "\n",
    "print(pippo)\n",
    "print(type(pippo))\n",
    "\n",
    "if pippo == \"sum\":\n",
    "    print(\"1 + 2 = 67\")"
   ]
  }
 ],
 "metadata": {
  "kernelspec": {
   "display_name": "coppeliaSim",
   "language": "python",
   "name": "python3"
  },
  "language_info": {
   "codemirror_mode": {
    "name": "ipython",
    "version": 3
   },
   "file_extension": ".py",
   "mimetype": "text/x-python",
   "name": "python",
   "nbconvert_exporter": "python",
   "pygments_lexer": "ipython3",
   "version": "3.10.16"
  }
 },
 "nbformat": 4,
 "nbformat_minor": 2
}
